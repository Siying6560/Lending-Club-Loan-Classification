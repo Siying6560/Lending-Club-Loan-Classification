{
 "cells": [
  {
   "cell_type": "code",
   "execution_count": 1,
   "metadata": {},
   "outputs": [],
   "source": [
    "import numpy as np\n",
    "import scipy as sp\n",
    "import pandas as pd\n",
    "import matplotlib as mpl\n",
    "import matplotlib.pyplot as plt\n",
    "import seaborn as sns\n",
    "\n",
    "# Pandas options\n",
    "pd.set_option('display.max_colwidth', 1000,'display.max_rows',None, 'display.max_columns',None)\n",
    "\n",
    "# Plot options\n",
    "%matplotlib inline\n",
    "mpl.style.use('ggplot')\n",
    "sns.set(style = 'whitegrid')\n"
   ]
  },
  {
   "cell_type": "code",
   "execution_count": 2,
   "metadata": {},
   "outputs": [],
   "source": [
    "loans = pd.read_csv('loans_clean.csv')"
   ]
  },
  {
   "attachments": {},
   "cell_type": "markdown",
   "metadata": {},
   "source": [
    "**Train, test split**"
   ]
  },
  {
   "cell_type": "code",
   "execution_count": 4,
   "metadata": {},
   "outputs": [],
   "source": [
    "from sklearn.model_selection import train_test_split"
   ]
  },
  {
   "cell_type": "code",
   "execution_count": 5,
   "metadata": {},
   "outputs": [
    {
     "data": {
      "text/plain": [
       "\"\\ntrain, test = train_test_split(loans, test_size=0.2, random_state=101)\\n\\nprint(train.shape)\\nprint(test.shape)\\n\\ntrain = train[(train['dti'] <=50)  & (train['open_acc'] <= 40) \\n& (train['total_acc'] <= 80) & (train['revol_util'] <= 120)]\\n\\nX_train = train.drop('loan_status', axis =1)\\ny_train = train['loan_status']\\n\\nX_test = test.drop('loan_status', axis =1)\\ny_test = test['loan_status']\\n\\n\""
      ]
     },
     "execution_count": 5,
     "metadata": {},
     "output_type": "execute_result"
    }
   ],
   "source": [
    "'''\n",
    "train, test = train_test_split(loans, test_size=0.2, random_state=101)\n",
    "\n",
    "print(train.shape)\n",
    "print(test.shape)\n",
    "\n",
    "train = train[(train['dti'] <=50)  & (train['open_acc'] <= 40) \n",
    "& (train['total_acc'] <= 80) & (train['revol_util'] <= 120)]\n",
    "\n",
    "X_train = train.drop('loan_status', axis =1)\n",
    "y_train = train['loan_status']\n",
    "\n",
    "X_test = test.drop('loan_status', axis =1)\n",
    "y_test = test['loan_status']\n",
    "\n",
    "'''"
   ]
  },
  {
   "cell_type": "code",
   "execution_count": 6,
   "metadata": {},
   "outputs": [
    {
     "data": {
      "text/plain": [
       "'\\n# create train, test, validation data sets\\nX_train, X_test, y_train, y_test = train_test_split(\\n        X, y,stratify=y, test_size=0.4)\\n\\nX_test, X_val, y_test, y_val = train_test_split(\\n        X_test, y_test, stratify=y_test, test_size=0.5)\\n'"
      ]
     },
     "execution_count": 6,
     "metadata": {},
     "output_type": "execute_result"
    }
   ],
   "source": [
    "X = loans.drop('loan_status', axis =1)\n",
    "y = loans['loan_status']\n",
    "\n",
    "X_train, X_test, y_train, y_test = train_test_split(X, y, test_size=0.2, random_state=101, stratify = y)\n",
    "\n",
    "'''\n",
    "# create train, test, validation data sets\n",
    "X_train, X_test, y_train, y_test = train_test_split(\n",
    "        X, y,stratify=y, test_size=0.4)\n",
    "\n",
    "X_test, X_val, y_test, y_val = train_test_split(\n",
    "        X_test, y_test, stratify=y_test, test_size=0.5)\n",
    "'''"
   ]
  },
  {
   "cell_type": "code",
   "execution_count": 7,
   "metadata": {},
   "outputs": [
    {
     "name": "stdout",
     "output_type": "stream",
     "text": [
      "(1070035, 69)\n"
     ]
    }
   ],
   "source": [
    "print(X_train.shape)"
   ]
  },
  {
   "attachments": {},
   "cell_type": "markdown",
   "metadata": {},
   "source": [
    "**Remove outliers from the training set**"
   ]
  },
  {
   "cell_type": "code",
   "execution_count": 8,
   "metadata": {},
   "outputs": [],
   "source": [
    "X_train = X_train[(X_train['dti'] <=50)  & (X_train['open_acc'] <= 40) \n",
    "& (X_train['total_acc'] <= 80) & (X_train['revol_util'] <= 120)]\n",
    "\n",
    "y_train = y_train[X_train.index]"
   ]
  },
  {
   "cell_type": "code",
   "execution_count": 9,
   "metadata": {},
   "outputs": [
    {
     "name": "stdout",
     "output_type": "stream",
     "text": [
      "(1065967, 69)\n",
      "(1065967,)\n"
     ]
    }
   ],
   "source": [
    "print(X_train.shape)\n",
    "print(y_train.shape)"
   ]
  },
  {
   "attachments": {},
   "cell_type": "markdown",
   "metadata": {},
   "source": [
    "**Normalizing data**"
   ]
  },
  {
   "cell_type": "code",
   "execution_count": 10,
   "metadata": {},
   "outputs": [],
   "source": [
    "from sklearn.preprocessing import MinMaxScaler"
   ]
  },
  {
   "cell_type": "code",
   "execution_count": 11,
   "metadata": {},
   "outputs": [],
   "source": [
    "scaler = MinMaxScaler()\n",
    "X_train = scaler.fit_transform(X_train)\n",
    "X_test = scaler.transform(X_test)"
   ]
  },
  {
   "attachments": {},
   "cell_type": "markdown",
   "metadata": {},
   "source": [
    "### Setting a baseline\n",
    "\n",
    "In this classification problem, the rate of loans that paid off (most frequent class) can be used as a baseline to evaluate the quality of models generated. These models should outperform the baseline capabilities to be considered for future predictions."
   ]
  },
  {
   "cell_type": "code",
   "execution_count": 12,
   "metadata": {},
   "outputs": [
    {
     "data": {
      "text/plain": [
       "0.8002547953562649"
      ]
     },
     "execution_count": 12,
     "metadata": {},
     "output_type": "execute_result"
    }
   ],
   "source": [
    "baseline = loans['loan_status'].value_counts(normalize=True)[0]\n",
    "baseline"
   ]
  },
  {
   "attachments": {},
   "cell_type": "markdown",
   "metadata": {},
   "source": [
    "### Accessing multiple algorithms\n",
    "\n"
   ]
  },
  {
   "cell_type": "code",
   "execution_count": 13,
   "metadata": {},
   "outputs": [],
   "source": [
    "from sklearn.ensemble import RandomForestClassifier\n",
    "from sklearn.tree import DecisionTreeClassifier\n",
    "from sklearn.neighbors import KNeighborsClassifier\n",
    "from sklearn.svm import SVC\n",
    "from xgboost import XGBClassifier\n",
    "from sklearn.linear_model import LogisticRegression\n",
    "from sklearn.ensemble import RandomForestClassifier, BaggingClassifier, AdaBoostClassifier, GradientBoostingClassifier\n",
    "from sklearn import model_selection\n",
    "from sklearn.model_selection import RepeatedStratifiedKFold\n",
    "\n",
    "import warnings\n",
    "from sklearn.exceptions import DataConversionWarning\n",
    "warnings.filterwarnings(\"ignore\", category=DataConversionWarning)\n",
    "warnings.filterwarnings(\"ignore\", category=FutureWarning)"
   ]
  },
  {
   "attachments": {},
   "cell_type": "markdown",
   "metadata": {},
   "source": [
    "Considering that we have millions of rows of data, it will take a lot of time to run a model; so we first filter 10 percent of the original data to select the model among multiple models and tune its parameter; then we use 80 percent of the data to train the selected model and the remaining 20 percent to evaluate the selected model performance"
   ]
  },
  {
   "cell_type": "code",
   "execution_count": 14,
   "metadata": {},
   "outputs": [
    {
     "name": "stdout",
     "output_type": "stream",
     "text": [
      "(66593, 69)\n"
     ]
    }
   ],
   "source": [
    "# we use 5% of data to select models\n",
    "x_train_frac, x_test_frac, y_train_frac, y_test_frac = train_test_split(X, y, test_size=0.95, random_state=101, stratify = y)\n",
    "\n",
    "# filter the outliers\n",
    "x_train_frac = x_train_frac[(x_train_frac['dti'] <=50)  & (x_train_frac['open_acc'] <= 40) \n",
    "& (x_train_frac['total_acc'] <= 80) & (x_train_frac['revol_util'] <= 120)]\n",
    "\n",
    "y_train_frac = y_train_frac[x_train_frac.index]\n",
    "\n",
    "# normalize the data\n",
    "scaler = MinMaxScaler()\n",
    "x_train_frac = scaler.fit_transform(x_train_frac)\n",
    "\n",
    "print(x_train_frac.shape)"
   ]
  },
  {
   "cell_type": "code",
   "execution_count": 15,
   "metadata": {},
   "outputs": [
    {
     "name": "stdout",
     "output_type": "stream",
     "text": [
      "DT: 0.6245152533521657 (0.01571438034956664)\n",
      "RandomForest: 0.6316929897309836 (0.01018840679578801)\n",
      "AdaBoost: 0.8022715191539339 (0.0012125527728103008)\n",
      "GradientBoost: 0.802431706372238 (0.0015470885124888051)\n",
      "KNN: 0.7736049121655069 (0.0036695422814633253)\n",
      "XGBoost: 0.7991180848967306 (0.003017796305906953)\n"
     ]
    },
    {
     "data": {
      "image/png": "[encoded data removed]",
      "text/plain": [
       "<Figure size 640x480 with 1 Axes>"
      ]
     },
     "metadata": {},
     "output_type": "display_data"
    }
   ],
   "source": [
    "import warnings\n",
    "from sklearn.exceptions import DataConversionWarning\n",
    "warnings.filterwarnings(\"ignore\", category=DataConversionWarning)\n",
    "warnings.filterwarnings(\"ignore\", category=FutureWarning)\n",
    "\n",
    "DT = DecisionTreeClassifier(criterion='gini', random_state=101, max_depth=5, class_weight='balanced',min_samples_leaf=5)\n",
    "RF = RandomForestClassifier(criterion='gini', random_state=101, max_depth=5, class_weight='balanced',min_samples_leaf=5, n_estimators=20)\n",
    "#Bagged = BaggingClassifier(n_estimators=50)\n",
    "AdaBoost = AdaBoostClassifier(n_estimators=50)\n",
    "Gboost = GradientBoostingClassifier(n_estimators=50)\n",
    "KNN = KNeighborsClassifier()\n",
    "#LR = LogisticRegression(random_state=101)\n",
    "XGBC = XGBClassifier()\n",
    "\n",
    "models = []\n",
    "\n",
    "models.append(('DT',DT))\n",
    "models.append(('RandomForest',RF))\n",
    "#models.append(('Bagged',Bagged))\n",
    "models.append(('AdaBoost',AdaBoost))\n",
    "models.append(('GradientBoost',Gboost))\n",
    "models.append(('KNN',KNN))\n",
    "#models.append(('LogisticRegression',LR))\n",
    "models.append(('XGBoost',XGBC))\n",
    "\n",
    "# evaluating each model in turn using KFold CV with 3 splits\n",
    "results = []\n",
    "names = []\n",
    "for name, model in models:\n",
    "    #kfold = model_selection.KFold(shuffle = True, n_splits =3, random_state = 101)\n",
    "    kfold = RepeatedStratifiedKFold(n_splits=10, n_repeats=3, random_state=101)\n",
    "    #cv_results = model_selection.cross_val_score(model,X_train,y_train, cv = kfold, scoring='f1_micro')\n",
    "    cv_results = model_selection.cross_val_score(model,x_train_frac,y_train_frac, cv = kfold,scoring='accuracy')\n",
    "    results.append(cv_results)\n",
    "    names.append(name)\n",
    "    print('{}: {} ({})'.format(name, np.mean(cv_results), np.std(cv_results, ddof=1)))\n",
    "\n",
    "# boxplot algorithm comparison\n",
    "fig = plt.figure()\n",
    "sns.set_style('whitegrid')\n",
    "fig.suptitle('Algorithm Comparison')\n",
    "ax = fig.add_subplot(111)\n",
    "plt.boxplot(results)\n",
    "plt.xticks(rotation = 'horizontal')\n",
    "#plt.ylabel('Weighted F1 Score')\n",
    "plt.ylabel('Accuracy')\n",
    "ax.set_xticklabels(names)\n",
    "plt.show()"
   ]
  },
  {
   "attachments": {},
   "cell_type": "markdown",
   "metadata": {},
   "source": [
    "From the above figure, we can say that AdaBoost and GradientBoost classifier are the two most favorable model within 6 models with the highest mean of acuuracy scores and lowest variance. (However, the accuracy is only slightly above the baseline accuracy.) In the next section, we will do hyperparameter turning on those models.\n",
    "\n"
   ]
  },
  {
   "attachments": {},
   "cell_type": "markdown",
   "metadata": {},
   "source": [
    "### Hyperparameter tuning of selected model"
   ]
  },
  {
   "cell_type": "code",
   "execution_count": 26,
   "metadata": {},
   "outputs": [],
   "source": [
    "from sklearn.model_selection import RandomizedSearchCV\n",
    "from sklearn.metrics import classification_report, accuracy_score, confusion_matrix, roc_auc_score"
   ]
  },
  {
   "attachments": {},
   "cell_type": "markdown",
   "metadata": {},
   "source": [
    "**Gradient Boosting**"
   ]
  },
  {
   "cell_type": "code",
   "execution_count": 19,
   "metadata": {},
   "outputs": [
    {
     "name": "stdout",
     "output_type": "stream",
     "text": [
      "Fitting 3 folds for each of 100 candidates, totalling 300 fits\n",
      "[CV] END .max_depth=3, min_samples_split=2, n_estimators=140; total time=  55.3s\n",
      "[CV] END .max_depth=3, min_samples_split=2, n_estimators=140; total time=  55.4s\n",
      "[CV] END .max_depth=3, min_samples_split=2, n_estimators=140; total time=  55.9s\n",
      "[CV] END .max_depth=5, min_samples_split=3, n_estimators=150; total time= 1.6min\n",
      "[CV] END .max_depth=5, min_samples_split=3, n_estimators=150; total time= 1.6min\n",
      "[CV] END .max_depth=5, min_samples_split=3, n_estimators=150; total time= 1.6min\n",
      "[CV] END max_depth=10, min_samples_split=2, n_estimators=120; total time= 2.5min\n",
      "[CV] END max_depth=10, min_samples_split=2, n_estimators=120; total time= 2.6min\n",
      "[CV] END max_depth=10, min_samples_split=2, n_estimators=120; total time= 2.6min\n",
      "[CV] END .max_depth=6, min_samples_split=4, n_estimators=130; total time= 1.7min\n",
      "[CV] END .max_depth=9, min_samples_split=3, n_estimators=140; total time= 2.6min\n",
      "[CV] END .max_depth=9, min_samples_split=3, n_estimators=140; total time= 2.7min\n",
      "[CV] END ..max_depth=8, min_samples_split=5, n_estimators=90; total time= 1.5min\n",
      "[CV] END ..max_depth=8, min_samples_split=5, n_estimators=90; total time= 1.5min\n",
      "[CV] END .max_depth=6, min_samples_split=4, n_estimators=130; total time= 1.7min\n",
      "[CV] END .max_depth=6, min_samples_split=4, n_estimators=130; total time= 1.7min\n",
      "[CV] END .max_depth=9, min_samples_split=3, n_estimators=140; total time= 2.7min\n",
      "[CV] END ..max_depth=8, min_samples_split=5, n_estimators=90; total time= 1.5min\n",
      "[CV] END ..max_depth=3, min_samples_split=3, n_estimators=90; total time=  34.4s\n",
      "[CV] END ..max_depth=3, min_samples_split=3, n_estimators=90; total time=  36.4s\n",
      "[CV] END ..max_depth=3, min_samples_split=3, n_estimators=90; total time=  36.6s\n",
      "[CV] END max_depth=10, min_samples_split=4, n_estimators=100; total time= 2.1min\n",
      "[CV] END max_depth=10, min_samples_split=4, n_estimators=100; total time= 2.1min\n",
      "[CV] END max_depth=10, min_samples_split=4, n_estimators=100; total time= 2.1min\n",
      "[CV] END .max_depth=3, min_samples_split=5, n_estimators=140; total time=  59.8s\n",
      "[CV] END .max_depth=3, min_samples_split=5, n_estimators=140; total time=  59.8s\n",
      "[CV] END .max_depth=3, min_samples_split=5, n_estimators=140; total time=  59.9s\n",
      "[CV] END .max_depth=8, min_samples_split=2, n_estimators=150; total time= 2.6min\n",
      "[CV] END .max_depth=8, min_samples_split=2, n_estimators=150; total time= 2.6min\n",
      "[CV] END .max_depth=8, min_samples_split=2, n_estimators=150; total time= 2.6min\n",
      "[CV] END .max_depth=8, min_samples_split=4, n_estimators=120; total time= 2.2min\n",
      "[CV] END .max_depth=8, min_samples_split=4, n_estimators=120; total time= 2.2min\n",
      "[CV] END .max_depth=8, min_samples_split=4, n_estimators=120; total time= 2.2min\n",
      "[CV] END .max_depth=9, min_samples_split=5, n_estimators=140; total time= 2.8min\n",
      "[CV] END .max_depth=9, min_samples_split=5, n_estimators=140; total time= 2.9min\n",
      "[CV] END .max_depth=9, min_samples_split=5, n_estimators=140; total time= 2.9min\n",
      "[CV] END max_depth=10, min_samples_split=2, n_estimators=140; total time= 3.2min\n",
      "[CV] END max_depth=10, min_samples_split=2, n_estimators=140; total time= 3.2min\n",
      "[CV] END ..max_depth=9, min_samples_split=5, n_estimators=90; total time= 1.8min\n",
      "[CV] END ..max_depth=9, min_samples_split=5, n_estimators=90; total time= 1.8min\n",
      "[CV] END ..max_depth=7, min_samples_split=3, n_estimators=80; total time= 1.2min\n",
      "[CV] END ..max_depth=7, min_samples_split=3, n_estimators=80; total time= 1.2min\n",
      "[CV] END max_depth=10, min_samples_split=2, n_estimators=140; total time= 3.2min\n",
      "[CV] END ..max_depth=9, min_samples_split=5, n_estimators=90; total time= 1.8min\n",
      "[CV] END ..max_depth=7, min_samples_split=3, n_estimators=80; total time= 1.2min\n",
      "[CV] END .max_depth=5, min_samples_split=2, n_estimators=120; total time= 1.3min\n",
      "[CV] END .max_depth=5, min_samples_split=2, n_estimators=120; total time= 1.4min\n",
      "[CV] END .max_depth=5, min_samples_split=2, n_estimators=120; total time= 1.4min\n",
      "[CV] END .max_depth=3, min_samples_split=3, n_estimators=150; total time= 1.1min\n",
      "[CV] END .max_depth=3, min_samples_split=3, n_estimators=150; total time= 1.0min\n",
      "[CV] END .max_depth=3, min_samples_split=3, n_estimators=150; total time= 1.0min\n",
      "[CV] END ..max_depth=6, min_samples_split=2, n_estimators=80; total time= 1.0min\n",
      "[CV] END ..max_depth=6, min_samples_split=2, n_estimators=80; total time= 1.0min\n",
      "[CV] END ..max_depth=3, min_samples_split=5, n_estimators=80; total time=  33.2s\n",
      "[CV] END ..max_depth=3, min_samples_split=5, n_estimators=80; total time=  33.3s\n",
      "[CV] END ..max_depth=3, min_samples_split=5, n_estimators=80; total time=  33.3s\n",
      "[CV] END ..max_depth=6, min_samples_split=2, n_estimators=80; total time= 1.1min\n",
      "[CV] END .max_depth=9, min_samples_split=2, n_estimators=150; total time= 3.0min\n",
      "[CV] END .max_depth=9, min_samples_split=2, n_estimators=150; total time= 3.0min\n",
      "[CV] END .max_depth=3, min_samples_split=4, n_estimators=110; total time=  44.6s\n",
      "[CV] END .max_depth=3, min_samples_split=4, n_estimators=110; total time=  44.7s\n",
      "[CV] END .max_depth=9, min_samples_split=2, n_estimators=150; total time= 3.0min\n",
      "[CV] END .max_depth=3, min_samples_split=4, n_estimators=110; total time=  49.2s\n",
      "[CV] END ..max_depth=6, min_samples_split=5, n_estimators=80; total time= 1.1min\n",
      "[CV] END ..max_depth=6, min_samples_split=5, n_estimators=80; total time= 1.1min\n",
      "[CV] END ..max_depth=6, min_samples_split=5, n_estimators=80; total time= 1.1min\n",
      "[CV] END max_depth=10, min_samples_split=3, n_estimators=110; total time= 2.4min\n",
      "[CV] END max_depth=10, min_samples_split=3, n_estimators=110; total time= 2.4min\n",
      "[CV] END ..max_depth=7, min_samples_split=5, n_estimators=80; total time= 1.2min\n",
      "[CV] END max_depth=10, min_samples_split=3, n_estimators=110; total time= 2.4min\n",
      "[CV] END ..max_depth=7, min_samples_split=5, n_estimators=80; total time= 1.2min\n",
      "[CV] END ..max_depth=4, min_samples_split=2, n_estimators=90; total time=  47.1s\n",
      "[CV] END ..max_depth=4, min_samples_split=2, n_estimators=90; total time=  47.1s\n",
      "[CV] END ..max_depth=4, min_samples_split=2, n_estimators=90; total time=  46.9s\n",
      "[CV] END ..max_depth=7, min_samples_split=5, n_estimators=80; total time= 1.2min\n",
      "[CV] END .max_depth=6, min_samples_split=5, n_estimators=120; total time= 1.5min\n",
      "[CV] END .max_depth=6, min_samples_split=5, n_estimators=120; total time= 1.5min\n",
      "[CV] END .max_depth=6, min_samples_split=5, n_estimators=120; total time= 1.5min\n",
      "[CV] END ..max_depth=9, min_samples_split=4, n_estimators=80; total time= 1.5min\n",
      "[CV] END .max_depth=3, min_samples_split=3, n_estimators=100; total time=  42.8s\n",
      "[CV] END ..max_depth=9, min_samples_split=4, n_estimators=80; total time= 1.5min\n",
      "[CV] END .max_depth=3, min_samples_split=3, n_estimators=100; total time=  42.4s\n",
      "[CV] END .max_depth=3, min_samples_split=3, n_estimators=100; total time=  40.6s\n",
      "[CV] END ..max_depth=9, min_samples_split=4, n_estimators=80; total time= 1.5min\n",
      "[CV] END max_depth=10, min_samples_split=5, n_estimators=130; total time= 2.7min\n",
      "[CV] END max_depth=10, min_samples_split=5, n_estimators=130; total time= 2.7min\n",
      "[CV] END max_depth=10, min_samples_split=5, n_estimators=130; total time= 2.7min\n",
      "[CV] END ..max_depth=8, min_samples_split=5, n_estimators=80; total time= 1.3min\n",
      "[CV] END .max_depth=8, min_samples_split=2, n_estimators=120; total time= 2.0min\n",
      "[CV] END .max_depth=8, min_samples_split=2, n_estimators=120; total time= 2.0min\n",
      "[CV] END ..max_depth=6, min_samples_split=2, n_estimators=90; total time= 1.1min\n",
      "[CV] END .max_depth=8, min_samples_split=2, n_estimators=120; total time= 2.0min\n",
      "[CV] END ..max_depth=6, min_samples_split=2, n_estimators=90; total time= 1.1min\n",
      "[CV] END ..max_depth=8, min_samples_split=5, n_estimators=80; total time= 1.3min\n",
      "[CV] END ..max_depth=8, min_samples_split=5, n_estimators=80; total time= 1.3min\n",
      "[CV] END ..max_depth=6, min_samples_split=2, n_estimators=90; total time= 1.1min\n",
      "[CV] END .max_depth=7, min_samples_split=4, n_estimators=120; total time= 1.7min\n",
      "[CV] END .max_depth=7, min_samples_split=4, n_estimators=120; total time= 1.7min\n",
      "[CV] END .max_depth=7, min_samples_split=4, n_estimators=120; total time= 1.7min\n",
      "[CV] END .max_depth=8, min_samples_split=5, n_estimators=140; total time= 2.3min\n",
      "[CV] END ..max_depth=3, min_samples_split=5, n_estimators=90; total time=  38.8s\n",
      "[CV] END ..max_depth=3, min_samples_split=5, n_estimators=90; total time=  39.0s\n",
      "[CV] END .max_depth=8, min_samples_split=5, n_estimators=140; total time= 2.4min\n",
      "[CV] END .max_depth=8, min_samples_split=5, n_estimators=140; total time= 2.3min\n",
      "[CV] END ..max_depth=3, min_samples_split=5, n_estimators=90; total time=  36.0s\n",
      "[CV] END .max_depth=9, min_samples_split=5, n_estimators=150; total time= 2.9min\n",
      "[CV] END .max_depth=3, min_samples_split=4, n_estimators=100; total time=  40.4s\n",
      "[CV] END .max_depth=3, min_samples_split=4, n_estimators=100; total time=  39.9s\n",
      "[CV] END .max_depth=3, min_samples_split=4, n_estimators=100; total time=  39.9s\n",
      "[CV] END .max_depth=9, min_samples_split=5, n_estimators=150; total time= 2.9min\n",
      "[CV] END .max_depth=5, min_samples_split=4, n_estimators=140; total time= 1.5min\n",
      "[CV] END .max_depth=5, min_samples_split=4, n_estimators=140; total time= 1.5min\n",
      "[CV] END .max_depth=5, min_samples_split=4, n_estimators=140; total time= 1.5min\n",
      "[CV] END .max_depth=5, min_samples_split=3, n_estimators=110; total time= 1.2min\n",
      "[CV] END .max_depth=9, min_samples_split=5, n_estimators=150; total time= 2.9min\n",
      "[CV] END .max_depth=5, min_samples_split=3, n_estimators=110; total time= 1.2min\n",
      "[CV] END .max_depth=5, min_samples_split=3, n_estimators=110; total time= 1.2min\n",
      "[CV] END ..max_depth=7, min_samples_split=3, n_estimators=90; total time= 1.3min\n",
      "[CV] END ..max_depth=7, min_samples_split=3, n_estimators=90; total time= 1.3min\n",
      "[CV] END ..max_depth=7, min_samples_split=3, n_estimators=90; total time= 1.3min\n",
      "[CV] END ..max_depth=8, min_samples_split=4, n_estimators=80; total time= 1.3min\n",
      "[CV] END ..max_depth=8, min_samples_split=4, n_estimators=80; total time= 1.3min\n",
      "[CV] END .max_depth=9, min_samples_split=2, n_estimators=120; total time= 2.3min\n",
      "[CV] END ..max_depth=8, min_samples_split=4, n_estimators=80; total time= 1.4min\n",
      "[CV] END .max_depth=9, min_samples_split=2, n_estimators=120; total time= 2.4min\n",
      "[CV] END .max_depth=9, min_samples_split=2, n_estimators=120; total time= 2.4min\n",
      "[CV] END .max_depth=4, min_samples_split=3, n_estimators=130; total time= 1.2min\n",
      "[CV] END .max_depth=4, min_samples_split=3, n_estimators=130; total time= 1.2min\n",
      "[CV] END .max_depth=8, min_samples_split=4, n_estimators=130; total time= 2.3min\n",
      "[CV] END max_depth=10, min_samples_split=3, n_estimators=150; total time= 3.3min\n",
      "[CV] END max_depth=10, min_samples_split=3, n_estimators=150; total time= 3.3min\n",
      "[CV] END .max_depth=8, min_samples_split=4, n_estimators=130; total time= 2.3min\n",
      "[CV] END .max_depth=8, min_samples_split=4, n_estimators=130; total time= 2.3min\n",
      "[CV] END .max_depth=4, min_samples_split=3, n_estimators=130; total time= 1.1min\n",
      "[CV] END ..max_depth=3, min_samples_split=4, n_estimators=80; total time=  32.7s\n",
      "[CV] END ..max_depth=3, min_samples_split=4, n_estimators=80; total time=  32.8s\n",
      "[CV] END .max_depth=5, min_samples_split=2, n_estimators=100; total time= 1.1min\n",
      "[CV] END ..max_depth=3, min_samples_split=4, n_estimators=80; total time=  32.6s\n",
      "[CV] END max_depth=10, min_samples_split=3, n_estimators=150; total time= 3.3min\n",
      "[CV] END .max_depth=5, min_samples_split=2, n_estimators=100; total time= 1.1min\n",
      "[CV] END .max_depth=5, min_samples_split=2, n_estimators=100; total time= 1.1min\n",
      "[CV] END .max_depth=5, min_samples_split=2, n_estimators=110; total time= 1.2min\n",
      "[CV] END .max_depth=5, min_samples_split=2, n_estimators=110; total time= 1.2min\n",
      "[CV] END .max_depth=5, min_samples_split=2, n_estimators=110; total time= 1.2min\n",
      "[CV] END ..max_depth=9, min_samples_split=3, n_estimators=90; total time= 1.7min\n",
      "[CV] END ..max_depth=9, min_samples_split=3, n_estimators=90; total time= 1.7min\n",
      "[CV] END ..max_depth=8, min_samples_split=4, n_estimators=90; total time= 1.5min\n",
      "[CV] END ..max_depth=8, min_samples_split=4, n_estimators=90; total time= 1.5min\n",
      "[CV] END ..max_depth=9, min_samples_split=3, n_estimators=90; total time= 1.7min\n",
      "[CV] END .max_depth=9, min_samples_split=4, n_estimators=150; total time= 2.8min\n",
      "[CV] END .max_depth=9, min_samples_split=4, n_estimators=150; total time= 2.8min\n",
      "[CV] END .max_depth=9, min_samples_split=4, n_estimators=150; total time= 2.8min\n",
      "[CV] END .max_depth=4, min_samples_split=2, n_estimators=140; total time= 1.2min\n",
      "[CV] END ..max_depth=8, min_samples_split=4, n_estimators=90; total time= 1.5min\n",
      "[CV] END .max_depth=4, min_samples_split=2, n_estimators=140; total time= 1.2min\n",
      "[CV] END .max_depth=4, min_samples_split=2, n_estimators=140; total time= 1.2min\n",
      "[CV] END .max_depth=5, min_samples_split=4, n_estimators=120; total time= 1.3min\n",
      "[CV] END .max_depth=5, min_samples_split=4, n_estimators=120; total time= 1.3min\n",
      "[CV] END .max_depth=7, min_samples_split=3, n_estimators=150; total time= 2.2min\n",
      "[CV] END .max_depth=5, min_samples_split=4, n_estimators=120; total time= 1.3min\n",
      "[CV] END .max_depth=7, min_samples_split=3, n_estimators=150; total time= 2.2min\n",
      "[CV] END .max_depth=4, min_samples_split=4, n_estimators=150; total time= 1.3min\n",
      "[CV] END .max_depth=4, min_samples_split=4, n_estimators=150; total time= 1.3min\n",
      "[CV] END .max_depth=7, min_samples_split=3, n_estimators=150; total time= 2.2min\n",
      "[CV] END .max_depth=4, min_samples_split=4, n_estimators=150; total time= 1.3min\n",
      "[CV] END ..max_depth=6, min_samples_split=3, n_estimators=80; total time=  57.7s\n",
      "[CV] END ..max_depth=6, min_samples_split=3, n_estimators=80; total time=  57.9s\n",
      "[CV] END ..max_depth=6, min_samples_split=3, n_estimators=80; total time=  57.6s\n",
      "[CV] END .max_depth=7, min_samples_split=3, n_estimators=110; total time= 1.5min\n",
      "[CV] END .max_depth=9, min_samples_split=5, n_estimators=120; total time= 2.2min\n",
      "[CV] END .max_depth=9, min_samples_split=5, n_estimators=120; total time= 2.2min\n",
      "[CV] END .max_depth=9, min_samples_split=5, n_estimators=120; total time= 2.1min\n",
      "[CV] END .max_depth=7, min_samples_split=3, n_estimators=110; total time= 1.6min\n",
      "[CV] END .max_depth=7, min_samples_split=3, n_estimators=110; total time= 1.6min\n",
      "[CV] END .max_depth=4, min_samples_split=5, n_estimators=120; total time= 1.0min\n",
      "[CV] END .max_depth=6, min_samples_split=5, n_estimators=150; total time= 1.9min\n",
      "[CV] END .max_depth=6, min_samples_split=5, n_estimators=150; total time= 1.9min\n",
      "[CV] END .max_depth=4, min_samples_split=5, n_estimators=120; total time= 1.0min\n",
      "[CV] END .max_depth=4, min_samples_split=5, n_estimators=120; total time= 1.0min\n",
      "[CV] END .max_depth=6, min_samples_split=5, n_estimators=150; total time= 1.9min\n",
      "[CV] END .max_depth=6, min_samples_split=2, n_estimators=130; total time= 1.6min\n",
      "[CV] END .max_depth=6, min_samples_split=2, n_estimators=130; total time= 1.6min\n",
      "[CV] END .max_depth=6, min_samples_split=2, n_estimators=130; total time= 1.6min\n",
      "[CV] END .max_depth=8, min_samples_split=3, n_estimators=120; total time= 1.9min\n",
      "[CV] END .max_depth=8, min_samples_split=3, n_estimators=120; total time= 1.9min\n",
      "[CV] END .max_depth=8, min_samples_split=3, n_estimators=120; total time= 1.9min\n",
      "[CV] END max_depth=10, min_samples_split=4, n_estimators=130; total time= 2.7min\n",
      "[CV] END .max_depth=6, min_samples_split=5, n_estimators=140; total time= 1.8min\n",
      "[CV] END .max_depth=6, min_samples_split=5, n_estimators=140; total time= 1.8min\n",
      "[CV] END max_depth=10, min_samples_split=4, n_estimators=130; total time= 2.7min\n",
      "[CV] END max_depth=10, min_samples_split=4, n_estimators=130; total time= 2.7min\n",
      "[CV] END .max_depth=6, min_samples_split=5, n_estimators=140; total time= 1.8min\n",
      "[CV] END .max_depth=10, min_samples_split=2, n_estimators=90; total time= 1.9min\n",
      "[CV] END .max_depth=10, min_samples_split=2, n_estimators=90; total time= 1.9min\n",
      "[CV] END ..max_depth=7, min_samples_split=4, n_estimators=80; total time= 1.1min\n",
      "[CV] END ..max_depth=7, min_samples_split=4, n_estimators=80; total time= 1.1min\n",
      "[CV] END ..max_depth=7, min_samples_split=4, n_estimators=80; total time= 1.2min\n",
      "[CV] END .max_depth=10, min_samples_split=2, n_estimators=90; total time= 1.9min\n",
      "[CV] END .max_depth=6, min_samples_split=3, n_estimators=120; total time= 1.6min\n",
      "[CV] END .max_depth=6, min_samples_split=3, n_estimators=120; total time= 1.7min\n",
      "[CV] END .max_depth=6, min_samples_split=3, n_estimators=120; total time= 1.7min\n",
      "[CV] END ..max_depth=5, min_samples_split=3, n_estimators=90; total time= 1.2min\n",
      "[CV] END .max_depth=8, min_samples_split=4, n_estimators=100; total time= 1.9min\n",
      "[CV] END ..max_depth=5, min_samples_split=3, n_estimators=90; total time= 1.1min\n",
      "[CV] END .max_depth=8, min_samples_split=4, n_estimators=100; total time= 1.9min\n",
      "[CV] END .max_depth=8, min_samples_split=4, n_estimators=100; total time= 1.9min\n",
      "[CV] END ..max_depth=5, min_samples_split=3, n_estimators=90; total time= 1.1min\n",
      "[CV] END .max_depth=6, min_samples_split=4, n_estimators=100; total time= 1.4min\n",
      "[CV] END .max_depth=6, min_samples_split=4, n_estimators=100; total time= 1.3min\n",
      "[CV] END .max_depth=6, min_samples_split=4, n_estimators=100; total time= 1.3min\n",
      "[CV] END .max_depth=5, min_samples_split=2, n_estimators=130; total time= 1.5min\n",
      "[CV] END .max_depth=5, min_samples_split=2, n_estimators=130; total time= 1.5min\n",
      "[CV] END .max_depth=7, min_samples_split=5, n_estimators=140; total time= 2.2min\n",
      "[CV] END .max_depth=7, min_samples_split=5, n_estimators=140; total time= 2.2min\n",
      "[CV] END .max_depth=5, min_samples_split=2, n_estimators=130; total time= 1.5min\n",
      "[CV] END .max_depth=7, min_samples_split=5, n_estimators=140; total time= 2.2min\n",
      "[CV] END .max_depth=7, min_samples_split=3, n_estimators=130; total time= 2.1min\n",
      "[CV] END .max_depth=7, min_samples_split=3, n_estimators=130; total time= 2.1min\n",
      "[CV] END .max_depth=6, min_samples_split=3, n_estimators=130; total time= 1.8min\n",
      "[CV] END .max_depth=6, min_samples_split=4, n_estimators=110; total time= 1.5min\n",
      "[CV] END .max_depth=6, min_samples_split=4, n_estimators=110; total time= 1.5min\n",
      "[CV] END .max_depth=7, min_samples_split=3, n_estimators=130; total time= 2.1min\n",
      "[CV] END .max_depth=6, min_samples_split=3, n_estimators=130; total time= 1.8min\n",
      "[CV] END .max_depth=6, min_samples_split=3, n_estimators=130; total time= 1.8min\n",
      "[CV] END .max_depth=6, min_samples_split=4, n_estimators=110; total time= 1.5min\n",
      "[CV] END ..max_depth=6, min_samples_split=4, n_estimators=90; total time= 1.2min\n",
      "[CV] END ..max_depth=6, min_samples_split=4, n_estimators=90; total time= 1.2min\n",
      "[CV] END ..max_depth=6, min_samples_split=4, n_estimators=90; total time= 1.2min\n",
      "[CV] END .max_depth=5, min_samples_split=5, n_estimators=100; total time= 1.0min\n",
      "[CV] END .max_depth=5, min_samples_split=5, n_estimators=100; total time= 1.1min\n",
      "[CV] END max_depth=10, min_samples_split=4, n_estimators=140; total time= 3.0min\n",
      "[CV] END max_depth=10, min_samples_split=4, n_estimators=110; total time= 2.4min\n",
      "[CV] END max_depth=10, min_samples_split=4, n_estimators=140; total time= 3.1min\n",
      "[CV] END max_depth=10, min_samples_split=4, n_estimators=140; total time= 3.1min\n",
      "[CV] END max_depth=10, min_samples_split=4, n_estimators=110; total time= 2.5min\n",
      "[CV] END .max_depth=3, min_samples_split=5, n_estimators=130; total time= 1.0min\n",
      "[CV] END .max_depth=3, min_samples_split=5, n_estimators=130; total time=  59.9s\n",
      "[CV] END .max_depth=3, min_samples_split=5, n_estimators=130; total time=  59.2s\n",
      "[CV] END .max_depth=5, min_samples_split=5, n_estimators=100; total time= 1.2min\n",
      "[CV] END max_depth=10, min_samples_split=4, n_estimators=110; total time= 2.4min\n",
      "[CV] END .max_depth=5, min_samples_split=4, n_estimators=100; total time= 1.0min\n",
      "[CV] END .max_depth=5, min_samples_split=4, n_estimators=100; total time=  59.9s\n",
      "[CV] END .max_depth=5, min_samples_split=4, n_estimators=100; total time= 1.0min\n",
      "[CV] END .max_depth=8, min_samples_split=3, n_estimators=100; total time= 1.7min\n",
      "[CV] END .max_depth=8, min_samples_split=3, n_estimators=100; total time= 1.6min\n",
      "[CV] END .max_depth=8, min_samples_split=3, n_estimators=100; total time= 1.6min\n",
      "[CV] END .max_depth=3, min_samples_split=2, n_estimators=130; total time=  50.0s\n",
      "[CV] END .max_depth=3, min_samples_split=2, n_estimators=130; total time=  51.4s\n",
      "[CV] END .max_depth=6, min_samples_split=3, n_estimators=150; total time= 1.9min\n",
      "[CV] END ..max_depth=4, min_samples_split=5, n_estimators=80; total time=  41.6s\n",
      "[CV] END ..max_depth=4, min_samples_split=5, n_estimators=80; total time=  41.8s\n",
      "[CV] END .max_depth=3, min_samples_split=2, n_estimators=130; total time=  52.0s\n",
      "[CV] END .max_depth=6, min_samples_split=3, n_estimators=150; total time= 1.9min\n",
      "[CV] END ..max_depth=4, min_samples_split=5, n_estimators=80; total time=  45.9s\n",
      "[CV] END .max_depth=6, min_samples_split=3, n_estimators=150; total time= 2.0min\n",
      "[CV] END .max_depth=7, min_samples_split=5, n_estimators=100; total time= 1.7min\n",
      "[CV] END .max_depth=7, min_samples_split=5, n_estimators=100; total time= 1.7min\n",
      "[CV] END .max_depth=7, min_samples_split=5, n_estimators=100; total time= 1.6min\n",
      "[CV] END .max_depth=7, min_samples_split=2, n_estimators=120; total time= 2.0min\n",
      "[CV] END .max_depth=7, min_samples_split=2, n_estimators=120; total time= 2.0min\n",
      "[CV] END .max_depth=7, min_samples_split=2, n_estimators=120; total time= 2.0min\n",
      "[CV] END .max_depth=8, min_samples_split=2, n_estimators=100; total time= 1.8min\n",
      "[CV] END ..max_depth=5, min_samples_split=2, n_estimators=90; total time=  58.9s\n",
      "[CV] END ..max_depth=5, min_samples_split=2, n_estimators=90; total time=  59.2s\n",
      "[CV] END .max_depth=8, min_samples_split=2, n_estimators=100; total time= 1.8min\n",
      "[CV] END ..max_depth=5, min_samples_split=2, n_estimators=90; total time=  58.3s\n",
      "[CV] END .max_depth=8, min_samples_split=2, n_estimators=100; total time= 1.7min\n",
      "[CV] END .max_depth=8, min_samples_split=5, n_estimators=100; total time= 1.7min\n",
      "[CV] END .max_depth=8, min_samples_split=5, n_estimators=100; total time= 1.7min\n",
      "[CV] END .max_depth=5, min_samples_split=4, n_estimators=130; total time= 1.4min\n",
      "[CV] END .max_depth=8, min_samples_split=5, n_estimators=100; total time= 1.7min\n",
      "[CV] END .max_depth=5, min_samples_split=4, n_estimators=130; total time= 1.4min\n",
      "[CV] END .max_depth=5, min_samples_split=4, n_estimators=130; total time= 1.4min\n",
      "[CV] END .max_depth=9, min_samples_split=5, n_estimators=110; total time= 2.1min\n",
      "[CV] END .max_depth=3, min_samples_split=5, n_estimators=150; total time=  58.5s\n",
      "[CV] END .max_depth=3, min_samples_split=5, n_estimators=150; total time=  58.8s\n",
      "[CV] END .max_depth=9, min_samples_split=5, n_estimators=110; total time= 2.1min\n",
      "[CV] END .max_depth=9, min_samples_split=5, n_estimators=110; total time= 2.1min\n",
      "[CV] END .max_depth=3, min_samples_split=3, n_estimators=120; total time=  49.6s\n",
      "[CV] END .max_depth=3, min_samples_split=3, n_estimators=120; total time=  49.4s\n",
      "[CV] END .max_depth=3, min_samples_split=5, n_estimators=150; total time= 1.0min\n",
      "[CV] END .max_depth=3, min_samples_split=3, n_estimators=120; total time=  49.1s\n",
      "[CV] END max_depth=10, min_samples_split=3, n_estimators=130; total time= 2.8min\n",
      "[CV] END .max_depth=4, min_samples_split=2, n_estimators=110; total time=  59.3s\n",
      "[CV] END .max_depth=3, min_samples_split=5, n_estimators=120; total time=  49.3s\n",
      "[CV] END max_depth=10, min_samples_split=3, n_estimators=130; total time= 2.8min\n",
      "[CV] END max_depth=10, min_samples_split=3, n_estimators=130; total time= 2.8min\n",
      "[CV] END .max_depth=4, min_samples_split=2, n_estimators=110; total time=  59.2s\n",
      "[CV] END .max_depth=4, min_samples_split=2, n_estimators=110; total time=  59.3s\n",
      "[CV] END .max_depth=3, min_samples_split=5, n_estimators=120; total time=  49.2s\n",
      "[CV] END .max_depth=3, min_samples_split=5, n_estimators=120; total time=  49.4s\n",
      "[CV] END .max_depth=4, min_samples_split=3, n_estimators=100; total time=  53.8s\n",
      "[CV] END .max_depth=4, min_samples_split=3, n_estimators=100; total time=  54.2s\n",
      "[CV] END .max_depth=4, min_samples_split=3, n_estimators=100; total time=  53.8s\n",
      "[CV] END ..max_depth=6, min_samples_split=4, n_estimators=80; total time= 1.0min\n",
      "[CV] END ..max_depth=6, min_samples_split=4, n_estimators=80; total time= 1.0min\n",
      "[CV] END ..max_depth=6, min_samples_split=4, n_estimators=80; total time=  59.9s\n",
      "[CV] END .max_depth=3, min_samples_split=4, n_estimators=140; total time=  52.6s\n",
      "[CV] END .max_depth=3, min_samples_split=4, n_estimators=140; total time=  45.5s\n",
      "[CV] END .max_depth=3, min_samples_split=4, n_estimators=140; total time=  35.0s\n",
      "{'n_estimators': 150, 'min_samples_split': 3, 'max_depth': 3}\n"
     ]
    }
   ],
   "source": [
    "param_grid = dict(\n",
    "# Number of trees in random forest\n",
    "n_estimators = [int(x) for x in np.linspace(start = 80, stop = 150, num =8)],\n",
    "# Number of features to consider at every split\n",
    "#max_features = ['auto', 'sqrt'],\n",
    "# Maximum number of levels in tree\n",
    "max_depth = [int(x) for x in np.linspace(3,10, num=8)],\n",
    "# Minimum number of samples required to split a node\n",
    "min_samples_split = [int(x) for x in np.linspace(2,5, num=4)],\n",
    "# Minimum number of samples required at each leaf node\n",
    "#min_samples_leaf = [int(x) for x in np.linspace(1,10, num=10)]\n",
    ")\n",
    "\n",
    "# Random search of parameters using 3 fold cross validation, search across 100 different combinations and use all avilable cores\n",
    "gb_random = RandomizedSearchCV(estimator = GradientBoostingClassifier(), param_distributions =param_grid, n_iter =100, cv=3, verbose = 2, random_state = 42, n_jobs = -1 )\n",
    "\n",
    "# Fit the random search mode\n",
    "gb_random.fit(x_train_frac, y_train_frac)\n",
    "\n",
    "# Print the best parameters\n",
    "print(gb_random.best_params_)"
   ]
  },
  {
   "cell_type": "code",
   "execution_count": 27,
   "metadata": {},
   "outputs": [
    {
     "name": "stdout",
     "output_type": "stream",
     "text": [
      "Gradient Boosting Accuracy: 0.8076975057438469\n",
      "Gradient Boosting ROC AUC Score: 0.7250923531758318\n"
     ]
    }
   ],
   "source": [
    "gb_best_random = gb_random.best_estimator_\n",
    "predictions = gb_best_random.predict(x_train_frac)\n",
    "accuracy = accuracy_score(y_train_frac, predictions)\n",
    "print('Gradient Boosting Accuracy: {}'.format(accuracy))\n",
    "\n",
    "y_score = gb_random.predict_proba(x_train_frac)[:,1]\n",
    "roc = roc_auc_score(y_train_frac, y_score)\n",
    "print('Gradient Boosting ROC AUC Score: {}'.format(roc))\n"
   ]
  },
  {
   "cell_type": "code",
   "execution_count": 29,
   "metadata": {},
   "outputs": [
    {
     "name": "stdout",
     "output_type": "stream",
     "text": [
      "{'n_estimators': 150, 'min_samples_split': 3, 'max_depth': 3}\n"
     ]
    }
   ],
   "source": [
    "print(gb_random.best_params_)"
   ]
  },
  {
   "attachments": {},
   "cell_type": "markdown",
   "metadata": {},
   "source": [
    "After fitting the grid object, the best hyperparameters of gradient boosting are {'n_estimators': 150, 'min_samples_split': 3, 'max_depth': 3}. Next step, we will retrain the model using the best hyperparameters and the whole training data."
   ]
  },
  {
   "cell_type": "code",
   "execution_count": 31,
   "metadata": {},
   "outputs": [
    {
     "name": "stdout",
     "output_type": "stream",
     "text": [
      "Gradient Boosting Accuracy: 0.8036824779753969\n",
      "Gradient Boosting ROC AUC Score: 0.7149643528069122\n"
     ]
    }
   ],
   "source": [
    "gb_best_random.fit(X_train, y_train)\n",
    "predictions = gb_best_random.predict(X_train)\n",
    "accuracy = accuracy_score(y_train, predictions)\n",
    "print('Gradient Boosting Accuracy: {}'.format(accuracy))\n",
    "\n",
    "y_score = gb_random.predict_proba(X_train)[:,1]\n",
    "roc = roc_auc_score(y_train, y_score)\n",
    "print('Gradient Boosting ROC AUC Score: {}'.format(roc))\n"
   ]
  },
  {
   "cell_type": "code",
   "execution_count": 37,
   "metadata": {},
   "outputs": [
    {
     "name": "stdout",
     "output_type": "stream",
     "text": [
      "Accuracy Score:  0.803105689902022\n",
      "ROC_AUC Score:  0.7111488017115096\n",
      "Classification Report\n",
      "              precision    recall  f1-score   support\n",
      "\n",
      "           0       0.81      0.99      0.89    214075\n",
      "           1       0.56      0.07      0.12     53434\n",
      "\n",
      "    accuracy                           0.80    267509\n",
      "   macro avg       0.68      0.53      0.50    267509\n",
      "weighted avg       0.76      0.80      0.74    267509\n",
      "\n"
     ]
    },
    {
     "data": {
      "image/png": "[encoded data removed]",
      "text/plain": [
       "<Figure size 640x480 with 2 Axes>"
      ]
     },
     "metadata": {},
     "output_type": "display_data"
    }
   ],
   "source": [
    "final_model = gb_best_random\n",
    "final_model.fit(X_train, y_train)\n",
    "predictions = final_model.predict(X_test)\n",
    "print('Accuracy Score: ', accuracy_score(y_test, predictions))\n",
    "y_score = gb_best_random.predict_proba(X_test)[:,1]\n",
    "print('ROC_AUC Score: ', roc_auc_score(y_test, y_score))\n",
    "\n",
    "\n",
    "# Checking classification report\n",
    "print('Classification Report')\n",
    "print(classification_report(y_test, predictions))\n",
    "\n",
    "# Confusion Matrix\n",
    "cm = confusion_matrix(y_test, predictions)\n",
    "sns.heatmap(cm, annot=True)\n",
    "plt.xlabel('Predicted')\n",
    "plt.ylabel('Actual')\n",
    "plt.title('Confusion Matrix')\n",
    "plt.show()"
   ]
  },
  {
   "cell_type": "code",
   "execution_count": 59,
   "metadata": {},
   "outputs": [
    {
     "name": "stdout",
     "output_type": "stream",
     "text": [
      "Fitting 3 folds for each of 100 candidates, totalling 300 fits\n",
      "[CV] END max_depth=952, min_samples_split=2, n_estimators=110; total time= 5.0min\n",
      "[CV] END max_depth=952, min_samples_split=2, n_estimators=110; total time= 5.2min\n",
      "[CV] END max_depth=847, min_samples_split=3, n_estimators=90; total time= 5.4min\n",
      "[CV] END max_depth=847, min_samples_split=3, n_estimators=90; total time= 5.5min\n",
      "[CV] END max_depth=847, min_samples_split=3, n_estimators=90; total time= 5.7min\n",
      "[CV] END max_depth=1790, min_samples_split=5, n_estimators=100; total time= 8.4min\n",
      "[CV] END max_depth=1790, min_samples_split=5, n_estimators=100; total time= 8.6min\n",
      "[CV] END max_depth=1790, min_samples_split=5, n_estimators=100; total time= 8.6min\n",
      "[CV] END max_depth=952, min_samples_split=2, n_estimators=110; total time= 5.3min\n",
      "[CV] END max_depth=533, min_samples_split=3, n_estimators=140; total time= 9.2min\n",
      "[CV] END max_depth=1895, min_samples_split=4, n_estimators=130; total time=11.7min\n",
      "[CV] END max_depth=1895, min_samples_split=4, n_estimators=130; total time=11.6min\n",
      "[CV] END max_depth=1895, min_samples_split=4, n_estimators=130; total time=11.7min\n",
      "[CV] END max_depth=533, min_samples_split=3, n_estimators=140; total time= 8.6min\n",
      "[CV] END max_depth=533, min_samples_split=3, n_estimators=140; total time= 8.9min\n",
      "[CV] END max_depth=743, min_samples_split=4, n_estimators=150; total time=13.3min\n",
      "[CV] END max_depth=219, min_samples_split=2, n_estimators=130; total time= 5.9min\n",
      "[CV] END max_depth=219, min_samples_split=2, n_estimators=130; total time= 6.1min\n",
      "[CV] END max_depth=743, min_samples_split=4, n_estimators=150; total time=13.2min\n",
      "[CV] END max_depth=10, min_samples_split=5, n_estimators=150; total time= 2.7min\n",
      "[CV] END max_depth=10, min_samples_split=5, n_estimators=150; total time= 2.7min\n",
      "[CV] END max_depth=10, min_samples_split=5, n_estimators=150; total time= 2.8min\n",
      "[CV] END max_depth=743, min_samples_split=4, n_estimators=150; total time=12.4min\n",
      "[CV] END max_depth=219, min_samples_split=2, n_estimators=130; total time= 5.7min\n",
      "[CV] END max_depth=428, min_samples_split=5, n_estimators=140; total time=11.4min\n",
      "[CV] END max_depth=428, min_samples_split=5, n_estimators=140; total time=11.7min\n",
      "[CV] END max_depth=428, min_samples_split=5, n_estimators=140; total time=11.6min\n",
      "[CV] END max_depth=1371, min_samples_split=2, n_estimators=90; total time= 4.1min\n",
      "[CV] END max_depth=1371, min_samples_split=2, n_estimators=90; total time= 4.6min\n",
      "[CV] END max_depth=1371, min_samples_split=2, n_estimators=90; total time= 4.8min\n",
      "[CV] END max_depth=10, min_samples_split=3, n_estimators=100; total time= 2.2min\n",
      "[CV] END max_depth=10, min_samples_split=3, n_estimators=100; total time= 2.2min\n",
      "[CV] END max_depth=847, min_samples_split=4, n_estimators=110; total time=10.0min\n",
      "[CV] END max_depth=743, min_samples_split=2, n_estimators=150; total time= 7.7min\n",
      "[CV] END max_depth=847, min_samples_split=4, n_estimators=110; total time=10.3min\n",
      "[CV] END max_depth=10, min_samples_split=3, n_estimators=100; total time= 2.0min\n",
      "[CV] END max_depth=847, min_samples_split=4, n_estimators=110; total time=10.1min\n",
      "[CV] END max_depth=743, min_samples_split=2, n_estimators=150; total time= 7.9min\n",
      "[CV] END max_depth=743, min_samples_split=2, n_estimators=150; total time= 7.6min\n",
      "[CV] END max_depth=1685, min_samples_split=3, n_estimators=110; total time= 6.2min\n",
      "[CV] END max_depth=1685, min_samples_split=3, n_estimators=110; total time= 6.4min\n",
      "[CV] END max_depth=1162, min_samples_split=2, n_estimators=130; total time= 5.8min\n",
      "[CV] END max_depth=1685, min_samples_split=3, n_estimators=110; total time= 6.4min\n",
      "[CV] END max_depth=219, min_samples_split=5, n_estimators=100; total time= 8.1min\n",
      "[CV] END max_depth=219, min_samples_split=5, n_estimators=100; total time= 8.1min\n",
      "[CV] END max_depth=219, min_samples_split=5, n_estimators=100; total time= 8.3min\n",
      "[CV] END max_depth=1162, min_samples_split=2, n_estimators=130; total time= 6.0min\n",
      "[CV] END max_depth=1162, min_samples_split=2, n_estimators=130; total time= 5.5min\n",
      "[CV] END max_depth=1685, min_samples_split=3, n_estimators=130; total time= 6.9min\n",
      "[CV] END max_depth=1685, min_samples_split=3, n_estimators=130; total time= 6.9min\n",
      "[CV] END max_depth=1685, min_samples_split=3, n_estimators=130; total time= 7.0min\n",
      "[CV] END max_depth=847, min_samples_split=2, n_estimators=130; total time= 4.9min\n",
      "[CV] END max_depth=847, min_samples_split=2, n_estimators=130; total time= 5.2min\n",
      "[CV] END max_depth=1685, min_samples_split=5, n_estimators=130; total time= 9.6min\n",
      "[CV] END max_depth=1685, min_samples_split=5, n_estimators=130; total time= 9.8min\n",
      "[CV] END max_depth=1685, min_samples_split=5, n_estimators=130; total time= 9.7min\n",
      "[CV] END max_depth=847, min_samples_split=2, n_estimators=130; total time= 5.6min\n",
      "[CV] END max_depth=1371, min_samples_split=3, n_estimators=120; total time= 7.2min\n",
      "[CV] END max_depth=1371, min_samples_split=3, n_estimators=120; total time= 7.3min\n",
      "[CV] END max_depth=1371, min_samples_split=3, n_estimators=120; total time= 7.1min\n",
      "[CV] END max_depth=743, min_samples_split=3, n_estimators=140; total time= 8.8min\n",
      "[CV] END max_depth=743, min_samples_split=3, n_estimators=140; total time= 8.6min\n",
      "[CV] END max_depth=743, min_samples_split=3, n_estimators=140; total time= 8.4min\n",
      "[CV] END max_depth=1371, min_samples_split=4, n_estimators=120; total time=10.4min\n",
      "[CV] END max_depth=1371, min_samples_split=4, n_estimators=120; total time=10.4min\n",
      "[CV] END max_depth=428, min_samples_split=5, n_estimators=110; total time= 8.9min\n",
      "[CV] END max_depth=428, min_samples_split=5, n_estimators=110; total time= 9.0min\n",
      "[CV] END max_depth=1371, min_samples_split=4, n_estimators=120; total time=10.1min\n",
      "[CV] END max_depth=428, min_samples_split=5, n_estimators=110; total time= 9.6min\n",
      "[CV] END max_depth=533, min_samples_split=4, n_estimators=80; total time= 7.9min\n",
      "[CV] END max_depth=533, min_samples_split=4, n_estimators=80; total time= 8.0min\n",
      "[CV] END max_depth=533, min_samples_split=4, n_estimators=80; total time= 8.0min\n",
      "[CV] END max_depth=1895, min_samples_split=4, n_estimators=140; total time=13.6min\n",
      "[CV] END max_depth=1895, min_samples_split=4, n_estimators=140; total time=13.8min\n",
      "[CV] END max_depth=1790, min_samples_split=5, n_estimators=120; total time=12.1min\n",
      "[CV] END max_depth=1895, min_samples_split=4, n_estimators=140; total time=14.2min\n",
      "[CV] END max_depth=1371, min_samples_split=4, n_estimators=90; total time= 8.7min\n",
      "[CV] END max_depth=1790, min_samples_split=5, n_estimators=120; total time=11.8min\n",
      "[CV] END max_depth=1371, min_samples_split=4, n_estimators=90; total time= 8.7min\n",
      "[CV] END max_depth=1790, min_samples_split=5, n_estimators=120; total time=11.1min\n",
      "[CV] END max_depth=1371, min_samples_split=4, n_estimators=90; total time= 8.1min\n",
      "[CV] END max_depth=1790, min_samples_split=5, n_estimators=90; total time= 7.9min\n",
      "[CV] END max_depth=1790, min_samples_split=5, n_estimators=90; total time= 7.7min\n",
      "[CV] END max_depth=1790, min_samples_split=5, n_estimators=90; total time= 7.7min\n",
      "[CV] END max_depth=1685, min_samples_split=2, n_estimators=110; total time= 5.0min\n",
      "[CV] END max_depth=1685, min_samples_split=2, n_estimators=110; total time= 5.1min\n",
      "[CV] END max_depth=324, min_samples_split=4, n_estimators=140; total time=11.7min\n",
      "[CV] END max_depth=324, min_samples_split=4, n_estimators=140; total time=11.7min\n",
      "[CV] END max_depth=324, min_samples_split=4, n_estimators=140; total time=11.7min\n",
      "[CV] END max_depth=1685, min_samples_split=2, n_estimators=110; total time= 4.7min\n",
      "[CV] END max_depth=1581, min_samples_split=4, n_estimators=150; total time=12.7min\n",
      "[CV] END max_depth=1581, min_samples_split=4, n_estimators=150; total time=12.6min\n",
      "[CV] END max_depth=1581, min_samples_split=4, n_estimators=150; total time=12.9min\n",
      "[CV] END max_depth=2000, min_samples_split=5, n_estimators=110; total time= 8.9min\n",
      "[CV] END max_depth=219, min_samples_split=3, n_estimators=120; total time= 7.4min\n",
      "[CV] END max_depth=2000, min_samples_split=5, n_estimators=110; total time= 9.2min\n",
      "[CV] END max_depth=2000, min_samples_split=5, n_estimators=110; total time= 9.2min\n",
      "[CV] END max_depth=219, min_samples_split=3, n_estimators=120; total time= 7.5min\n",
      "[CV] END max_depth=219, min_samples_split=3, n_estimators=120; total time= 6.8min\n",
      "[CV] END max_depth=324, min_samples_split=3, n_estimators=140; total time= 7.9min\n",
      "[CV] END max_depth=324, min_samples_split=3, n_estimators=140; total time= 8.0min\n",
      "[CV] END max_depth=324, min_samples_split=3, n_estimators=140; total time=19.1min\n",
      "[CV] END max_depth=847, min_samples_split=5, n_estimators=90; total time=25.0min\n",
      "[CV] END max_depth=847, min_samples_split=5, n_estimators=90; total time=25.1min\n",
      "[CV] END max_depth=847, min_samples_split=5, n_estimators=90; total time=25.0min\n",
      "[CV] END max_depth=324, min_samples_split=3, n_estimators=130; total time=25.3min\n",
      "[CV] END max_depth=114, min_samples_split=5, n_estimators=150; total time=29.6min\n",
      "[CV] END max_depth=219, min_samples_split=3, n_estimators=80; total time= 4.0min\n",
      "[CV] END max_depth=114, min_samples_split=5, n_estimators=150; total time=29.4min\n",
      "[CV] END max_depth=114, min_samples_split=5, n_estimators=150; total time=29.6min\n",
      "[CV] END max_depth=10, min_samples_split=2, n_estimators=100; total time= 1.7min\n",
      "[CV] END max_depth=324, min_samples_split=3, n_estimators=130; total time=13.6min\n",
      "[CV] END max_depth=219, min_samples_split=3, n_estimators=80; total time= 4.0min\n",
      "[CV] END max_depth=10, min_samples_split=2, n_estimators=100; total time= 1.7min\n",
      "[CV] END max_depth=10, min_samples_split=2, n_estimators=100; total time= 1.7min\n",
      "[CV] END max_depth=219, min_samples_split=3, n_estimators=80; total time= 4.0min\n",
      "[CV] END max_depth=324, min_samples_split=3, n_estimators=130; total time= 6.4min\n",
      "[CV] END max_depth=1371, min_samples_split=2, n_estimators=140; total time= 5.3min\n",
      "[CV] END max_depth=1371, min_samples_split=2, n_estimators=140; total time= 5.6min\n",
      "[CV] END max_depth=1371, min_samples_split=2, n_estimators=140; total time= 5.4min\n",
      "[CV] END max_depth=1057, min_samples_split=3, n_estimators=150; total time= 7.3min\n",
      "[CV] END max_depth=1057, min_samples_split=3, n_estimators=150; total time= 7.7min\n",
      "[CV] END max_depth=114, min_samples_split=4, n_estimators=150; total time=10.9min\n",
      "[CV] END max_depth=114, min_samples_split=4, n_estimators=150; total time=11.0min\n",
      "[CV] END max_depth=114, min_samples_split=4, n_estimators=150; total time=11.0min\n",
      "[CV] END max_depth=1057, min_samples_split=3, n_estimators=150; total time= 7.3min\n",
      "[CV] END max_depth=1162, min_samples_split=2, n_estimators=110; total time= 4.1min\n",
      "[CV] END max_depth=1162, min_samples_split=2, n_estimators=110; total time= 4.2min\n",
      "[CV] END max_depth=1162, min_samples_split=2, n_estimators=110; total time= 4.1min\n",
      "[CV] END max_depth=638, min_samples_split=4, n_estimators=150; total time=10.6min\n",
      "[CV] END max_depth=638, min_samples_split=4, n_estimators=150; total time=10.6min\n",
      "[CV] END max_depth=638, min_samples_split=4, n_estimators=150; total time=10.8min\n",
      "[CV] END max_depth=638, min_samples_split=5, n_estimators=130; total time= 9.2min\n",
      "[CV] END max_depth=638, min_samples_split=5, n_estimators=130; total time= 9.3min\n",
      "[CV] END max_depth=638, min_samples_split=5, n_estimators=130; total time= 9.2min\n",
      "[CV] END max_depth=847, min_samples_split=5, n_estimators=140; total time=10.0min\n",
      "[CV] END max_depth=10, min_samples_split=5, n_estimators=140; total time= 2.3min\n",
      "[CV] END max_depth=847, min_samples_split=5, n_estimators=140; total time=10.1min\n",
      "[CV] END max_depth=10, min_samples_split=5, n_estimators=140; total time= 2.3min\n",
      "[CV] END max_depth=1162, min_samples_split=3, n_estimators=150; total time= 7.8min\n",
      "[CV] END max_depth=10, min_samples_split=5, n_estimators=140; total time= 2.3min\n",
      "[CV] END max_depth=1162, min_samples_split=3, n_estimators=150; total time= 7.7min\n",
      "[CV] END max_depth=847, min_samples_split=5, n_estimators=140; total time=10.0min\n",
      "[CV] END max_depth=1162, min_samples_split=3, n_estimators=150; total time= 7.5min\n",
      "[CV] END max_depth=1057, min_samples_split=2, n_estimators=80; total time= 3.0min\n",
      "[CV] END max_depth=1057, min_samples_split=2, n_estimators=80; total time= 3.1min\n",
      "[CV] END max_depth=1057, min_samples_split=2, n_estimators=80; total time= 3.2min\n",
      "[CV] END max_depth=1895, min_samples_split=2, n_estimators=150; total time= 5.6min\n",
      "[CV] END max_depth=1895, min_samples_split=2, n_estimators=150; total time= 5.7min\n",
      "[CV] END max_depth=1895, min_samples_split=2, n_estimators=150; total time= 5.8min\n",
      "[CV] END max_depth=847, min_samples_split=4, n_estimators=140; total time=10.0min\n",
      "[CV] END max_depth=847, min_samples_split=4, n_estimators=140; total time=10.1min\n",
      "[CV] END max_depth=847, min_samples_split=4, n_estimators=140; total time=10.4min\n",
      "[CV] END max_depth=952, min_samples_split=4, n_estimators=140; total time=10.2min\n",
      "[CV] END max_depth=952, min_samples_split=4, n_estimators=140; total time=10.4min\n",
      "[CV] END max_depth=1057, min_samples_split=3, n_estimators=140; total time= 7.3min\n",
      "[CV] END max_depth=1057, min_samples_split=3, n_estimators=140; total time= 7.4min\n",
      "[CV] END max_depth=847, min_samples_split=2, n_estimators=90; total time= 3.4min\n",
      "[CV] END max_depth=1057, min_samples_split=3, n_estimators=140; total time= 7.0min\n",
      "[CV] END max_depth=952, min_samples_split=4, n_estimators=140; total time=10.2min\n",
      "[CV] END max_depth=219, min_samples_split=4, n_estimators=90; total time= 6.3min\n",
      "[CV] END max_depth=219, min_samples_split=4, n_estimators=90; total time= 6.3min\n",
      "[CV] END max_depth=847, min_samples_split=2, n_estimators=90; total time= 3.5min\n",
      "[CV] END max_depth=847, min_samples_split=2, n_estimators=90; total time= 3.5min\n",
      "[CV] END max_depth=219, min_samples_split=4, n_estimators=90; total time= 6.2min\n",
      "[CV] END max_depth=428, min_samples_split=2, n_estimators=130; total time= 4.8min\n",
      "[CV] END max_depth=428, min_samples_split=2, n_estimators=130; total time= 5.0min\n",
      "[CV] END max_depth=428, min_samples_split=2, n_estimators=130; total time= 4.9min\n",
      "[CV] END max_depth=638, min_samples_split=4, n_estimators=110; total time= 7.7min\n",
      "[CV] END max_depth=638, min_samples_split=4, n_estimators=110; total time= 7.9min\n",
      "[CV] END max_depth=638, min_samples_split=4, n_estimators=110; total time= 7.7min\n",
      "[CV] END max_depth=114, min_samples_split=3, n_estimators=120; total time= 6.1min\n",
      "[CV] END max_depth=114, min_samples_split=3, n_estimators=120; total time= 6.0min\n",
      "[CV] END max_depth=1476, min_samples_split=5, n_estimators=140; total time= 9.9min\n",
      "[CV] END max_depth=1476, min_samples_split=5, n_estimators=140; total time= 9.9min\n",
      "[CV] END max_depth=1476, min_samples_split=5, n_estimators=140; total time= 9.9min\n",
      "[CV] END max_depth=114, min_samples_split=3, n_estimators=120; total time= 5.9min\n",
      "[CV] END max_depth=638, min_samples_split=5, n_estimators=120; total time= 8.5min\n",
      "[CV] END max_depth=638, min_samples_split=5, n_estimators=120; total time= 8.6min\n",
      "[CV] END max_depth=1266, min_samples_split=5, n_estimators=110; total time= 7.8min\n",
      "[CV] END max_depth=638, min_samples_split=5, n_estimators=120; total time= 8.5min\n",
      "[CV] END max_depth=1266, min_samples_split=5, n_estimators=110; total time= 7.8min\n",
      "[CV] END max_depth=1266, min_samples_split=5, n_estimators=110; total time= 7.9min\n",
      "[CV] END max_depth=324, min_samples_split=3, n_estimators=120; total time= 6.4min\n",
      "[CV] END max_depth=324, min_samples_split=3, n_estimators=120; total time= 6.2min\n",
      "[CV] END max_depth=1790, min_samples_split=3, n_estimators=90; total time=23.1min\n",
      "[CV] END max_depth=324, min_samples_split=3, n_estimators=120; total time=31.6min\n",
      "[CV] END max_depth=1790, min_samples_split=3, n_estimators=90; total time=30.3min\n",
      "[CV] END max_depth=1790, min_samples_split=3, n_estimators=90; total time=30.5min\n",
      "[CV] END max_depth=428, min_samples_split=2, n_estimators=120; total time=30.5min\n",
      "[CV] END max_depth=428, min_samples_split=2, n_estimators=120; total time=30.7min\n",
      "[CV] END max_depth=428, min_samples_split=2, n_estimators=120; total time=30.6min\n",
      "[CV] END max_depth=1790, min_samples_split=3, n_estimators=130; total time=32.9min\n",
      "[CV] END max_depth=219, min_samples_split=2, n_estimators=90; total time= 3.7min\n",
      "[CV] END max_depth=219, min_samples_split=2, n_estimators=90; total time= 3.8min\n",
      "[CV] END max_depth=1581, min_samples_split=4, n_estimators=80; total time= 6.1min\n",
      "[CV] END max_depth=1790, min_samples_split=3, n_estimators=130; total time=14.3min\n",
      "[CV] END max_depth=1581, min_samples_split=4, n_estimators=80; total time= 6.2min\n",
      "[CV] END max_depth=1581, min_samples_split=4, n_estimators=80; total time= 6.0min\n",
      "[CV] END max_depth=1790, min_samples_split=3, n_estimators=130; total time= 7.1min\n",
      "[CV] END max_depth=219, min_samples_split=2, n_estimators=90; total time= 3.7min\n",
      "[CV] END max_depth=1057, min_samples_split=4, n_estimators=100; total time= 7.8min\n",
      "[CV] END max_depth=114, min_samples_split=4, n_estimators=90; total time= 6.9min\n",
      "[CV] END max_depth=114, min_samples_split=4, n_estimators=90; total time= 6.9min\n",
      "[CV] END max_depth=1057, min_samples_split=4, n_estimators=100; total time= 7.8min\n",
      "[CV] END max_depth=114, min_samples_split=4, n_estimators=90; total time= 7.0min\n",
      "[CV] END max_depth=1057, min_samples_split=4, n_estimators=100; total time= 7.7min\n",
      "[CV] END max_depth=219, min_samples_split=3, n_estimators=140; total time= 7.8min\n",
      "[CV] END max_depth=219, min_samples_split=3, n_estimators=140; total time= 7.6min\n",
      "[CV] END max_depth=114, min_samples_split=2, n_estimators=150; total time= 5.7min\n",
      "[CV] END max_depth=219, min_samples_split=3, n_estimators=140; total time= 7.2min\n",
      "[CV] END max_depth=114, min_samples_split=2, n_estimators=150; total time= 6.0min\n",
      "[CV] END max_depth=114, min_samples_split=2, n_estimators=150; total time= 5.8min\n",
      "[CV] END max_depth=2000, min_samples_split=4, n_estimators=110; total time= 8.1min\n",
      "[CV] END max_depth=2000, min_samples_split=4, n_estimators=110; total time= 8.1min\n",
      "[CV] END max_depth=2000, min_samples_split=4, n_estimators=110; total time= 8.0min\n",
      "[CV] END max_depth=638, min_samples_split=5, n_estimators=100; total time= 7.0min\n",
      "[CV] END max_depth=10, min_samples_split=2, n_estimators=140; total time= 2.4min\n",
      "[CV] END max_depth=10, min_samples_split=2, n_estimators=140; total time= 2.4min\n",
      "[CV] END max_depth=10, min_samples_split=2, n_estimators=140; total time= 2.4min\n",
      "[CV] END max_depth=638, min_samples_split=5, n_estimators=100; total time= 7.1min\n",
      "[CV] END max_depth=638, min_samples_split=5, n_estimators=100; total time= 7.1min\n",
      "[CV] END max_depth=847, min_samples_split=4, n_estimators=100; total time= 7.2min\n",
      "[CV] END max_depth=847, min_samples_split=4, n_estimators=100; total time= 7.3min\n",
      "[CV] END max_depth=847, min_samples_split=4, n_estimators=100; total time= 7.2min\n",
      "[CV] END max_depth=1685, min_samples_split=3, n_estimators=150; total time= 7.6min\n",
      "[CV] END max_depth=1685, min_samples_split=3, n_estimators=150; total time= 7.9min\n",
      "[CV] END max_depth=1685, min_samples_split=3, n_estimators=150; total time=11.4min\n",
      "[CV] END max_depth=1162, min_samples_split=4, n_estimators=90; total time=15.9min\n",
      "[CV] END max_depth=1162, min_samples_split=4, n_estimators=90; total time=16.5min\n",
      "[CV] END max_depth=219, min_samples_split=4, n_estimators=140; total time=20.2min\n",
      "[CV] END max_depth=219, min_samples_split=4, n_estimators=140; total time=20.3min\n",
      "[CV] END max_depth=219, min_samples_split=4, n_estimators=140; total time=20.3min\n",
      "[CV] END max_depth=1162, min_samples_split=4, n_estimators=90; total time=19.8min\n",
      "[CV] END max_depth=847, min_samples_split=2, n_estimators=120; total time= 8.0min\n",
      "[CV] END max_depth=2000, min_samples_split=5, n_estimators=120; total time=21.8min\n",
      "[CV] END max_depth=2000, min_samples_split=5, n_estimators=120; total time=26.6min\n",
      "[CV] END max_depth=847, min_samples_split=2, n_estimators=120; total time=16.7min\n",
      "[CV] END max_depth=847, min_samples_split=2, n_estimators=120; total time=33.6min\n",
      "[CV] END max_depth=2000, min_samples_split=5, n_estimators=120; total time=37.9min\n",
      "[CV] END max_depth=952, min_samples_split=4, n_estimators=80; total time=34.5min\n",
      "[CV] END max_depth=952, min_samples_split=4, n_estimators=80; total time=31.2min\n",
      "[CV] END max_depth=952, min_samples_split=4, n_estimators=80; total time=31.0min\n",
      "[CV] END max_depth=1895, min_samples_split=2, n_estimators=90; total time= 3.3min\n",
      "[CV] END max_depth=1895, min_samples_split=2, n_estimators=90; total time= 3.4min\n",
      "[CV] END max_depth=1895, min_samples_split=2, n_estimators=90; total time= 3.3min\n",
      "[CV] END max_depth=847, min_samples_split=2, n_estimators=110; total time= 4.0min\n",
      "[CV] END max_depth=847, min_samples_split=2, n_estimators=110; total time= 4.1min\n",
      "[CV] END max_depth=847, min_samples_split=2, n_estimators=110; total time= 4.1min\n",
      "[CV] END max_depth=1266, min_samples_split=5, n_estimators=140; total time=35.2min\n",
      "[CV] END max_depth=1266, min_samples_split=5, n_estimators=140; total time=26.7min\n",
      "[CV] END max_depth=1266, min_samples_split=5, n_estimators=140; total time=26.5min\n",
      "[CV] END max_depth=1895, min_samples_split=4, n_estimators=100; total time= 6.8min\n",
      "[CV] END max_depth=1895, min_samples_split=4, n_estimators=100; total time= 6.8min\n",
      "[CV] END max_depth=1895, min_samples_split=4, n_estimators=100; total time= 6.7min\n",
      "[CV] END max_depth=428, min_samples_split=4, n_estimators=90; total time= 6.1min\n",
      "[CV] END max_depth=428, min_samples_split=4, n_estimators=90; total time= 6.1min\n",
      "[CV] END max_depth=952, min_samples_split=3, n_estimators=100; total time= 4.7min\n",
      "[CV] END max_depth=428, min_samples_split=4, n_estimators=90; total time= 6.1min\n",
      "[CV] END max_depth=952, min_samples_split=3, n_estimators=100; total time= 4.9min\n",
      "[CV] END max_depth=114, min_samples_split=3, n_estimators=90; total time= 4.3min\n",
      "[CV] END max_depth=952, min_samples_split=3, n_estimators=100; total time= 4.6min\n",
      "[CV] END max_depth=114, min_samples_split=3, n_estimators=90; total time= 4.5min\n",
      "[CV] END max_depth=114, min_samples_split=3, n_estimators=90; total time= 4.9min\n",
      "[CV] END max_depth=1162, min_samples_split=3, n_estimators=90; total time= 4.8min\n",
      "[CV] END max_depth=638, min_samples_split=2, n_estimators=150; total time= 6.0min\n",
      "[CV] END max_depth=638, min_samples_split=2, n_estimators=150; total time= 6.2min\n",
      "[CV] END max_depth=638, min_samples_split=2, n_estimators=150; total time= 6.1min\n",
      "[CV] END max_depth=1162, min_samples_split=3, n_estimators=90; total time= 4.9min\n",
      "[CV] END max_depth=1162, min_samples_split=3, n_estimators=90; total time= 4.8min\n",
      "[CV] END max_depth=114, min_samples_split=5, n_estimators=80; total time= 6.1min\n",
      "[CV] END max_depth=114, min_samples_split=5, n_estimators=80; total time= 5.7min\n",
      "[CV] END max_depth=114, min_samples_split=5, n_estimators=80; total time= 5.7min\n",
      "[CV] END max_depth=743, min_samples_split=3, n_estimators=110; total time= 6.2min\n",
      "[CV] END max_depth=743, min_samples_split=3, n_estimators=110; total time= 6.2min\n",
      "[CV] END max_depth=743, min_samples_split=3, n_estimators=110; total time= 5.7min\n",
      "[CV] END max_depth=2000, min_samples_split=5, n_estimators=140; total time=10.7min\n",
      "[CV] END max_depth=2000, min_samples_split=5, n_estimators=140; total time=10.6min\n",
      "[CV] END max_depth=2000, min_samples_split=5, n_estimators=140; total time=10.6min\n",
      "[CV] END max_depth=1266, min_samples_split=3, n_estimators=140; total time= 8.1min\n",
      "[CV] END max_depth=1266, min_samples_split=3, n_estimators=140; total time= 8.5min\n",
      "[CV] END max_depth=638, min_samples_split=4, n_estimators=90; total time= 7.7min\n",
      "[CV] END .max_depth=10, min_samples_split=5, n_estimators=80; total time= 2.0min\n",
      "[CV] END max_depth=1266, min_samples_split=3, n_estimators=140; total time= 8.9min\n",
      "[CV] END .max_depth=10, min_samples_split=5, n_estimators=80; total time= 2.4min\n",
      "[CV] END .max_depth=10, min_samples_split=5, n_estimators=80; total time= 2.4min\n",
      "[CV] END max_depth=638, min_samples_split=4, n_estimators=90; total time= 9.3min\n",
      "[CV] END max_depth=324, min_samples_split=2, n_estimators=130; total time= 8.0min\n",
      "[CV] END max_depth=324, min_samples_split=2, n_estimators=130; total time= 8.4min\n",
      "[CV] END max_depth=638, min_samples_split=4, n_estimators=90; total time=10.0min\n",
      "[CV] END max_depth=324, min_samples_split=2, n_estimators=130; total time= 8.2min\n",
      "[CV] END max_depth=1790, min_samples_split=2, n_estimators=130; total time= 7.6min\n",
      "[CV] END max_depth=1790, min_samples_split=2, n_estimators=130; total time= 7.5min\n",
      "[CV] END max_depth=1790, min_samples_split=2, n_estimators=130; total time= 7.2min\n",
      "[CV] END max_depth=638, min_samples_split=3, n_estimators=110; total time= 7.6min\n",
      "[CV] END max_depth=638, min_samples_split=3, n_estimators=110; total time= 7.5min\n",
      "[CV] END max_depth=638, min_samples_split=3, n_estimators=110; total time= 7.2min\n",
      "[CV] END max_depth=533, min_samples_split=4, n_estimators=90; total time= 7.3min\n",
      "[CV] END max_depth=533, min_samples_split=4, n_estimators=90; total time= 7.3min\n",
      "[CV] END max_depth=533, min_samples_split=4, n_estimators=90; total time= 5.4min\n",
      "{'n_estimators': 80, 'min_samples_split': 5, 'max_depth': 10}\n"
     ]
    }
   ],
   "source": [
    "param_grid = dict(\n",
    "# Number of trees in random forest\n",
    "n_estimators = [int(x) for x in np.linspace(start = 80, stop = 150, num =8)],\n",
    "# Number of features to consider at every split\n",
    "#max_features = ['auto', 'sqrt'],\n",
    "# Maximum number of levels in tree\n",
    "max_depth = [int(x) for x in np.linspace(10,2000, num=20)],\n",
    "# Minimum number of samples required to split a node\n",
    "min_samples_split = [int(x) for x in np.linspace(2,5, num=4)],\n",
    "# Minimum number of samples required at each leaf node\n",
    "#min_samples_leaf = [int(x) for x in np.linspace(1,10, num=10)]\n",
    ")\n",
    "\n",
    "# Random search of parameters using 3 fold cross validation, search across 100 different combinations and use all avilable cores\n",
    "gb_random = RandomizedSearchCV(estimator = GradientBoostingClassifier(), param_distributions =param_grid, n_iter =100, cv=3, verbose = 2, random_state = 42, n_jobs = -1 )\n",
    "\n",
    "# Fit the random search mode\n",
    "gb_random.fit(x_train_frac, y_train_frac)\n",
    "\n",
    "# Print the best parameters\n",
    "print(gb_random.best_params_)"
   ]
  },
  {
   "cell_type": "code",
   "execution_count": 60,
   "metadata": {},
   "outputs": [
    {
     "name": "stdout",
     "output_type": "stream",
     "text": [
      "Gradient Boosting Accuracy: 0.8827354226420194\n",
      "Gradient Boosting ROC AUC Score: 0.9403405993347381\n"
     ]
    }
   ],
   "source": [
    "gb_best_random = gb_random.best_estimator_\n",
    "predictions = gb_best_random.predict(x_train_frac)\n",
    "accuracy = accuracy_score(y_train_frac, predictions)\n",
    "print('Gradient Boosting Accuracy: {}'.format(accuracy))\n",
    "\n",
    "y_score = gb_random.predict_proba(x_train_frac)[:,1]\n",
    "roc = roc_auc_score(y_train_frac, y_score)\n",
    "print('Gradient Boosting ROC AUC Score: {}'.format(roc))"
   ]
  },
  {
   "cell_type": "code",
   "execution_count": 61,
   "metadata": {},
   "outputs": [
    {
     "name": "stdout",
     "output_type": "stream",
     "text": [
      "Accuracy Score(test):  0.803277646733381\n",
      "ROC_AUC Score:  0.7167114097424306\n",
      "================================================\n",
      "Accuracy Score(test):  0.8180525288306298\n",
      "ROC_AUC Score:  0.7732091998562008\n",
      "Classification Report\n",
      "              precision    recall  f1-score   support\n",
      "\n",
      "           0       0.81      0.98      0.89    214075\n",
      "           1       0.55      0.09      0.15     53434\n",
      "\n",
      "    accuracy                           0.80    267509\n",
      "   macro avg       0.68      0.54      0.52    267509\n",
      "weighted avg       0.76      0.80      0.74    267509\n",
      "\n"
     ]
    },
    {
     "data": {
      "image/png": "[encoded data removed]",
      "text/plain": [
       "<Figure size 640x480 with 2 Axes>"
      ]
     },
     "metadata": {},
     "output_type": "display_data"
    }
   ],
   "source": [
    "final_model = gb_best_random\n",
    "final_model.fit(X_train, y_train)\n",
    "predictions_test = final_model.predict(X_test)\n",
    "print('Accuracy Score(test): ', accuracy_score(y_test, predictions_test))\n",
    "y_score_test = gb_best_random.predict_proba(X_test)[:,1]\n",
    "print('ROC_AUC Score: ', roc_auc_score(y_test, y_score_test))\n",
    "print('================================================')\n",
    "predictions_train = final_model.predict(X_train)\n",
    "print('Accuracy Score(train): ', accuracy_score(y_train, predictions_train))\n",
    "y_score_train = gb_best_random.predict_proba(X_train)[:,1]\n",
    "print('ROC_AUC Score: ', roc_auc_score(y_train, y_score_train))\n",
    "\n",
    "# Checking classification report\n",
    "print('Classification Report')\n",
    "print(classification_report(y_test, predictions_test))\n",
    "\n",
    "# Confusion Matrix\n",
    "cm = confusion_matrix(y_test, predictions_test)\n",
    "sns.heatmap(cm, annot=True)\n",
    "plt.xlabel('Predicted')\n",
    "plt.ylabel('Actual')\n",
    "plt.title('Confusion Matrix')\n",
    "plt.show()"
   ]
  },
  {
   "attachments": {},
   "cell_type": "markdown",
   "metadata": {},
   "source": [
    "### Summary\n",
    "\n"
   ]
  },
  {
   "cell_type": "code",
   "execution_count": 51,
   "metadata": {},
   "outputs": [
    {
     "data": {
      "image/png": "[encoded data removed]",
      "text/plain": [
       "<Figure size 640x480 with 1 Axes>"
      ]
     },
     "metadata": {},
     "output_type": "display_data"
    }
   ],
   "source": [
    "# Using a decision tree to find the most important features as xxx\n",
    "DT = DecisionTreeClassifier(criterion='gini', random_state=101, max_depth=5, class_weight='balanced',min_samples_leaf=5)\n",
    "DT.fit(X_train, y_train)\n",
    "# y_pred_DT = DT.predict(X_test)\n",
    "\n",
    "feat_importance = pd.Series(DT.feature_importances_, index = loans.drop('loan_status', axis =1).columns)\n",
    "feat_importance = feat_importance.nlargest(4).sort_values(ascending=False).plot(kind = 'barh')\n",
    "plt.show()"
   ]
  },
  {
   "cell_type": "code",
   "execution_count": 17,
   "metadata": {},
   "outputs": [
    {
     "name": "stdout",
     "output_type": "stream",
     "text": [
      "DT: 0.38904771373234104 (0.021198367578438206)\n",
      "RandomForest: 0.38552975193791683 (0.006211217082006559)\n",
      "Bagged: 0.20078857972682684 (0.0001756178370295855)\n",
      "AdaBoost: 0.19752112384013776 (0.00023393704621467895)\n",
      "GradientBoost: 0.19751080453526004 (0.00019843437740366674)\n"
     ]
    },
    {
     "data": {
      "image/png": "[encoded data removed]",
      "text/plain": [
       "<Figure size 640x480 with 1 Axes>"
      ]
     },
     "metadata": {},
     "output_type": "display_data"
    }
   ],
   "source": [
    "'''\n",
    "import warnings\n",
    "from sklearn.exceptions import DataConversionWarning\n",
    "warnings.filterwarnings(\"ignore\", category=DataConversionWarning)\n",
    "warnings.filterwarnings(\"ignore\", category=FutureWarning)\n",
    "\n",
    "DT = DecisionTreeClassifier(criterion='gini', random_state=101, max_depth=5, class_weight='balanced',min_samples_leaf=5)\n",
    "RF = RandomForestClassifier(criterion='gini', random_state=101, max_depth=5, class_weight='balanced',min_samples_leaf=5, n_estimators=20)\n",
    "Bagged = BaggingClassifier(n_estimators=50)\n",
    "AdaBoost = AdaBoostClassifier(n_estimators=50)\n",
    "Gboost = GradientBoostingClassifier(n_estimators=50)\n",
    "#KNN = KNeighborsClassifiers()\n",
    "#LR = LogisticRegression(random_state=101)\n",
    "#SVM = SVC(random_state=101)\n",
    "#XGBC = XGBClassifier()\n",
    "\n",
    "models = []\n",
    "\n",
    "models.append(('DT',DT))\n",
    "models.append(('RandomForest',RF))\n",
    "models.append(('Bagged',Bagged))\n",
    "models.append(('AdaBoost',AdaBoost))\n",
    "models.append(('GradientBoost',Gboost))\n",
    "#models.append(('KNN',KNN))\n",
    "#models.append(('LogisticRegression',LR))\n",
    "#models.append(('SVM',SVM))\n",
    "#models.append(('XGBoost',XGBC))\n",
    "\n",
    "# evaluating each model in turn using KFold CV with 3 splits\n",
    "results = []\n",
    "names = []\n",
    "for name, model in models:\n",
    "    kfold = model_selection.KFold(shuffle = True, n_splits =3, random_state = 101)\n",
    "    #kfold = RepeatedStratifiedKFold(n_splits=10, n_repeats=3, random_state=101)\n",
    "    cv_results = model_selection.cross_val_score(model,X_train,y_train, cv = kfold, scoring='f1_micro')\n",
    "    #cv_results = model_selection.cross_val_score(model,X_train,y_train, cv = kfold,scoring='roc_auc')\n",
    "    results.append(cv_results)\n",
    "    names.append(name)\n",
    "    print('{}: {} ({})'.format(name, 1-np.mean(cv_results), np.std(cv_results, ddof=1)))\n",
    "\n",
    "# boxplot algorithm comparison\n",
    "fig = plt.figure()\n",
    "sns.set_style('whitegrid')\n",
    "fig.suptitle('Algorithm Comparison')\n",
    "ax = fig.add_subplot(111)\n",
    "plt.boxplot(results)\n",
    "plt.xticks(rotation = 'horizontal')\n",
    "plt.ylabel('Weighted F1 Score')\n",
    "ax.set_xticklabels(names)\n",
    "plt.show()\n",
    "\n",
    "'''"
   ]
  },
  {
   "attachments": {},
   "cell_type": "markdown",
   "metadata": {},
   "source": [
    "From the above figure, we can say that GradientBoost classifier is the most favorable model within 5 models with the highest mean of weighted F1 scores and a low variance."
   ]
  },
  {
   "cell_type": "code",
   "execution_count": null,
   "metadata": {},
   "outputs": [],
   "source": []
  }
 ],
 "metadata": {
  "kernelspec": {
   "display_name": "base",
   "language": "python",
   "name": "python3"
  },
  "language_info": {
   "codemirror_mode": {
    "name": "ipython",
    "version": 3
   },
   "file_extension": ".py",
   "mimetype": "text/x-python",
   "name": "python",
   "nbconvert_exporter": "python",
   "pygments_lexer": "ipython3",
   "version": "3.9.15"
  },
  "orig_nbformat": 4,
  "vscode": {
   "interpreter": {
    "hash": "82ed2ae668ffed6ac6d7b2acb65f4cc1f0ddfa4144baf21fa74f3500808f240f"
   }
  }
 },
 "nbformat": 4,
 "nbformat_minor": 2
}
